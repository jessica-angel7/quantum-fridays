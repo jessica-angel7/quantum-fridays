{
 "cells": [
  {
   "cell_type": "markdown",
   "metadata": {},
   "source": [
    "<h1 style=\"font-size:35px;\n",
    "        color:black;\n",
    "        \">Lab 6 Grover’s search with an unknown number of solutions</h1>"
   ]
  },
  {
   "cell_type": "markdown",
   "metadata": {},
   "source": [
    "Prerequisite\n",
    "- [Ch.3.10 Grover's Algorithm](https://qiskit.org/textbook/ch-algorithms/grover.html)\n",
    "- [Ch.3.11 Quantum Counting](https://qiskit.org/textbook/ch-algorithms/quantum-counting.html)\n",
    "\n",
    "Other relevant materials\n",
    "- [Section 3.3 Measuring T1 in Ch.6.1](https://qiskit.org/textbook/ch-quantum-hardware/calibrating-qubits-pulse.html#3.3-Measuring-$T_1$-using-Inversion-Recovery-)\n",
    "- [QCQI] Michael A. Nielsen and Isaac L. Chuang. 2011. Quantum Computation and Quantum Information"
   ]
  },
  {
   "cell_type": "code",
   "execution_count": 105,
   "metadata": {},
   "outputs": [],
   "source": [
    "from qiskit import *\n",
    "from qiskit.tools.visualization import plot_histogram\n",
    "from qiskit.quantum_info import Operator, Statevector\n",
    "from qiskit.tools.monitor import job_monitor\n",
    "from qiskit.ignis.mitigation.measurement import *\n",
    "\n",
    "import numpy as np\n",
    "import matplotlib.pyplot as plt"
   ]
  },
  {
   "cell_type": "markdown",
   "metadata": {},
   "source": [
    "## *Before we start: some Qiskit tips*"
   ]
  },
  {
   "cell_type": "markdown",
   "metadata": {},
   "source": [
    "If we have a circuit"
   ]
  },
  {
   "cell_type": "code",
   "execution_count": 2,
   "metadata": {},
   "outputs": [],
   "source": [
    "qc_x = QuantumCircuit(1)\n",
    "qc_x.x(0)\n",
    "qc_x.name = 'x'"
   ]
  },
  {
   "cell_type": "markdown",
   "metadata": {},
   "source": [
    "we can turn it into a gate"
   ]
  },
  {
   "cell_type": "code",
   "execution_count": 3,
   "metadata": {},
   "outputs": [],
   "source": [
    "x_gate = qc_x.to_gate()"
   ]
  },
  {
   "cell_type": "markdown",
   "metadata": {},
   "source": [
    "and then use it in other circuits."
   ]
  },
  {
   "cell_type": "code",
   "execution_count": 4,
   "metadata": {},
   "outputs": [
    {
     "data": {
      "text/html": [
       "<pre style=\"word-wrap: normal;white-space: pre;background: #fff0;line-height: 1.1;font-family: &quot;Courier New&quot;,Courier,monospace\">     ┌───┐\n",
       "q_0: ┤ x ├\n",
       "     └───┘\n",
       "q_1: ─────\n",
       "          </pre>"
      ],
      "text/plain": [
       "     ┌───┐\n",
       "q_0: ┤ x ├\n",
       "     └───┘\n",
       "q_1: ─────\n",
       "          "
      ]
     },
     "execution_count": 4,
     "metadata": {},
     "output_type": "execute_result"
    }
   ],
   "source": [
    "qc = QuantumCircuit(2)\n",
    "\n",
    "qc.append(x_gate, [0])\n",
    "\n",
    "qc.draw()"
   ]
  },
  {
   "cell_type": "markdown",
   "metadata": {},
   "source": [
    "We can also create a controlled version"
   ]
  },
  {
   "cell_type": "code",
   "execution_count": 5,
   "metadata": {},
   "outputs": [],
   "source": [
    "cx_gate = x_gate.control()"
   ]
  },
  {
   "cell_type": "markdown",
   "metadata": {},
   "source": [
    "and similarly add that to circuits."
   ]
  },
  {
   "cell_type": "code",
   "execution_count": 6,
   "metadata": {},
   "outputs": [
    {
     "data": {
      "text/html": [
       "<pre style=\"word-wrap: normal;white-space: pre;background: #fff0;line-height: 1.1;font-family: &quot;Courier New&quot;,Courier,monospace\">     ┌───┐     \n",
       "q_0: ┤ x ├──■──\n",
       "     └───┘┌─┴─┐\n",
       "q_1: ─────┤ x ├\n",
       "          └───┘</pre>"
      ],
      "text/plain": [
       "     ┌───┐     \n",
       "q_0: ┤ x ├──■──\n",
       "     └───┘┌─┴─┐\n",
       "q_1: ─────┤ x ├\n",
       "          └───┘"
      ]
     },
     "execution_count": 6,
     "metadata": {},
     "output_type": "execute_result"
    }
   ],
   "source": [
    "qc.append(cx_gate, [0,1])\n",
    "\n",
    "qc.draw()"
   ]
  },
  {
   "cell_type": "markdown",
   "metadata": {},
   "source": [
    "These ideas come in very handy for phase estimation."
   ]
  },
  {
   "cell_type": "markdown",
   "metadata": {},
   "source": [
    "<h2 style=\"font-size:24px;\">Part 1: Quantum Counting</h2>\n",
    "\n",
    "<br>\n",
    "<div style=\"background: #E8E7EB; border-radius: 5px;\n",
    "-moz-border-radius: 5px;\">\n",
    "  <p style=\"background: #800080;\n",
    "            border-radius: 5px 5px 0px 0px;\n",
    "            padding: 10px 0px 10px 10px;\n",
    "            font-size:18px;\n",
    "            color:white;\n",
    "            \"><b>Goal</b></p>\n",
    "    <p style=\" padding: 0px 0px 10px 10px;\n",
    "              font-size:16px;\">Construct a circuit for quantum counting implementing the IPE (Iterative Phase Estimation) algorithm to find the number of solutions to a search problem.</p>\n",
    "</div>\n",
    "\n",
    "\n",
    "In [Ch.3.10 Grover's Algorithm](https://qiskit.org/textbook/ch-algorithms/grover.html), we learned how to find search problem solutions through Grover's algorithm and the number of solutions utilizing the quantum counting circuit in [Ch.3.11 Quantum Counting](https://qiskit.org/textbook/ch-algorithms/quantum-counting.html).  The number of solutions toghther with the numbe of total items in the search space determine how many Grover iterations, the number of oracle calls, is required. In the part 1 of this lab, we build the quantum counting circuit implementing IPE ( Iterative Phase Estimation ) algorithm rather than the way the circuit was created in [Ch.3.11 Quantum Counting](https://qiskit.org/textbook/ch-algorithms/quantum-counting.html) with Quantum Phase Estimation (QPE)."
   ]
  },
  {
   "cell_type": "markdown",
   "metadata": {},
   "source": [
    "<h3 style=\"font-size: 20px\">1. Find the number of solutions of the given oracle for a search problem through quantum counting. "
   ]
  },
  {
   "cell_type": "markdown",
   "metadata": {},
   "source": [
    "<h4 style=\"font-size: 17px\">Step A. Construct a gate for Grover iteration. </h4>"
   ]
  },
  {
   "cell_type": "markdown",
   "metadata": {},
   "source": [
    "Consider the search space with the total numbe of item, $N = 8$. Run the following circuit to construct an oracle of a search problem."
   ]
  },
  {
   "cell_type": "code",
   "execution_count": 164,
   "metadata": {},
   "outputs": [
    {
     "data": {
      "image/png": "[encoded data removed]",
      "text/plain": [
       "<Figure size 387.597x204.68 with 1 Axes>"
      ]
     },
     "execution_count": 164,
     "metadata": {},
     "output_type": "execute_result"
    }
   ],
   "source": [
    "## Create an Oracle\n",
    "\n",
    "N = 8 # the number of total items in the search space\n",
    "m = int(np.log2(N)) # the number of qubits required to construct the search space with N items\n",
    "\n",
    "myqc = QuantumCircuit(m, name='Oracle')\n",
    "\n",
    "num_solutions = 3\n",
    "\n",
    "if num_solutions==4:\n",
    "\n",
    "    # solutions are 010 and 001, 110 and 101\n",
    "    \n",
    "    myqc.x(1)\n",
    "    myqc.z(range(2)) # this alone corresponds to solutions 000 and 011, 100 and 111\n",
    "    myqc.x(1)\n",
    "    \n",
    "if num_solutions in [1,3]:\n",
    "\n",
    "    # solution is 000\n",
    "    \n",
    "    myqc.x(range(m))\n",
    "    \n",
    "    # this alone corresponds to solution 111\n",
    "    myqc.h(m-1) # hadamards used to rotate mcx to mcz\n",
    "    myqc.mcx(list(range(m-1)),m-1)\n",
    "    myqc.h(m-1)\n",
    "    \n",
    "    myqc.x(range(m))\n",
    "\n",
    "if num_solutions in [2,3]:\n",
    "\n",
    "    # solutions are 011 and 111\n",
    "    \n",
    "    myqc.cz(0,1)\n",
    "    \n",
    "Oracle = myqc.to_gate()\n",
    "\n",
    "myqc.draw(output='mpl')"
   ]
  },
  {
   "cell_type": "markdown",
   "metadata": {},
   "source": [
    "We can see these marked solutions in the statevector."
   ]
  },
  {
   "cell_type": "code",
   "execution_count": 165,
   "metadata": {},
   "outputs": [
    {
     "data": {
      "text/plain": [
       "{'000': (-0.3535533905932736+0j),\n",
       " '001': (0.3535533905932736+0j),\n",
       " '010': (0.3535533905932736+0j),\n",
       " '011': (-0.3535533905932736+0j),\n",
       " '100': (0.3535533905932736+0j),\n",
       " '101': (0.3535533905932736+0j),\n",
       " '110': (0.3535533905932736+0j),\n",
       " '111': (-0.3535533905932736+0j)}"
      ]
     },
     "execution_count": 165,
     "metadata": {},
     "output_type": "execute_result"
    }
   ],
   "source": [
    "from qiskit.quantum_info import Statevector\n",
    "\n",
    "hads = QuantumCircuit(m)\n",
    "hads.h(range(m))\n",
    "ket = Statevector(hads.compose(myqc))\n",
    "ket.to_dict()"
   ]
  },
  {
   "cell_type": "markdown",
   "metadata": {},
   "source": [
    "&#128211; Complete the circuit, `qc`, to create Grover iteration gate/operator, `Grover`, by adding the diffuser, explained as the step 3 in the first section `1.Introdcution` of [Ch.3.10 Grover's Algorithm](https://qiskit.org/textbook/ch-algorithms/grover.html)."
   ]
  },
  {
   "cell_type": "code",
   "execution_count": 166,
   "metadata": {},
   "outputs": [],
   "source": [
    "qc = QuantumCircuit(m)\n",
    "qc.append(Oracle, range(m))\n",
    "\n",
    "### solution here\n",
    "myqc = QuantumCircuit(m, name='Diffuser')\n",
    "\n",
    "# transform |+> to |1>\n",
    "for j in range(m):\n",
    "    myqc.z(j)\n",
    "    myqc.h(j)\n",
    "\n",
    "# apply multiply controlled-Z, which gives a phase to the all |1> state\n",
    "myqc.h(m-1)\n",
    "myqc.mcx(list(range(m-1)),m-1)\n",
    "myqc.h(m-1)\n",
    "  \n",
    "# transform |1> to |+>\n",
    "for j in range(m):\n",
    "    myqc.h(j)\n",
    "    myqc.z(j)\n",
    "    \n",
    "# get global phase of -1 (there must be a better way!)\n",
    "myqc.z(0)\n",
    "myqc.x(0)\n",
    "myqc.z(0)\n",
    "myqc.x(0)\n",
    "\n",
    "Diffuser = myqc.to_gate()\n",
    "qc.append(Diffuser, range(m))\n",
    "####\n",
    "\n",
    "Grover = qc.to_gate()"
   ]
  },
  {
   "cell_type": "markdown",
   "metadata": {},
   "source": [
    "<h4 style=\"font-size: 17px\">&#128211;Step B. Build a quantum circuit, 'circ', for quantum counting employing the IPE algorithm to find the eigenvalue of the Grover iterator, `Grover` that we made in Step A. </h4>"
   ]
  },
  {
   "cell_type": "markdown",
   "metadata": {},
   "source": [
    "Read [Ch.3.11 Quantum Counting](https://qiskit.org/textbook/ch-algorithms/quantum-counting.html) before you start. Suppose the number of iteration of the IPE here is three which corresponds to three counting qubits in QPE ( Quantum Phase Estimate ) circuit. (In other words, set the number of classical register three.) "
   ]
  },
  {
   "cell_type": "code",
   "execution_count": 175,
   "metadata": {},
   "outputs": [
    {
     "data": {
      "image/png": "[encoded data removed]",
      "text/plain": [
       "<Figure size 990.257x445.48 with 1 Axes>"
      ]
     },
     "execution_count": 175,
     "metadata": {},
     "output_type": "execute_result"
    }
   ],
   "source": [
    "###### solution here\n",
    "\n",
    "# and a contolled version of the Grover iterator\n",
    "def cGrover(k):\n",
    "    \n",
    "    # make gate for 2^k repetitions of grover\n",
    "    qc = QuantumCircuit(m)\n",
    "    for _ in range(2**k):\n",
    "        qc.append(Grover, range(m))\n",
    "    grover_k = qc.to_gate()\n",
    "    grover_k.name = 'Grover_[2^'+str(k)+']'\n",
    "    \n",
    "    # make and return controlled version of this gate\n",
    "    cGrover_k = grover_k.control()\n",
    "    return cGrover_k   \n",
    "\n",
    "# number of bits required for the answer\n",
    "t = 3\n",
    "\n",
    "# we'll need the inverse QFT\n",
    "from qiskit.circuit.library import QFT\n",
    "qft = QFT(t)\n",
    "inv_qft = qft.inverse()\n",
    "\n",
    "\n",
    "# the first and second quantum registers, as in the lecture\n",
    "first = QuantumRegister(t,'first')\n",
    "second = QuantumRegister(m,'second')\n",
    "\n",
    "# output for the second register\n",
    "output = ClassicalRegister(t)\n",
    "\n",
    "# now make the circuit\n",
    "circ = QuantumCircuit(first, second, output)\n",
    "\n",
    "# the first register is initialized as the all |+> state\n",
    "circ.h(first)\n",
    "\n",
    "# we'll prepare the |s> state for the qubits of the second register\n",
    "circ.h(second)\n",
    "\n",
    "# apply the controlled Grover ops\n",
    "for k in range(t):    \n",
    "    circ.append(cGrover(t-k-1), [first[t-k-1]]+[q for q in second] )\n",
    "            \n",
    "# do an inverse qft\n",
    "circ.append(inv_qft, first)\n",
    "        \n",
    "# measure\n",
    "circ.measure(first, output)\n",
    "    \n",
    "\n",
    "###################    \n",
    "circ.draw('mpl')"
   ]
  },
  {
   "cell_type": "markdown",
   "metadata": {},
   "source": [
    "<h4 style=\"font-size: 17px\">&#128211;Step C. Execute the circuit that you built in Step B and find the number of solutions, $M$, from the estimated phase. </h4>"
   ]
  },
  {
   "cell_type": "code",
   "execution_count": 172,
   "metadata": {},
   "outputs": [],
   "source": [
    "sim = Aer.get_backend('qasm_simulator')\n",
    "shots = 20000"
   ]
  },
  {
   "cell_type": "code",
   "execution_count": 173,
   "metadata": {},
   "outputs": [
    {
     "name": "stdout",
     "output_type": "stream",
     "text": [
      "Results with bit strings {'10001': 19, '00000': 24, '11111': 31, '01011': 54, '10011': 31, '01110': 18, '00010': 46, '10010': 18, '01111': 19, '11100': 107, '01101': 24, '10111': 116, '01010': 66, '10101': 47, '00101': 215, '01001': 125, '11011': 207, '01100': 25, '00100': 97, '10110': 77, '11101': 47, '00110': 1241, '01000': 381, '11000': 385, '10000': 17, '11001': 7580, '11010': 1236, '00001': 39, '00011': 54, '11110': 36, '10100': 25, '00111': 7593}\n",
      "\n",
      "Results with phases {'0.53125': 19, '0.0': 24, '0.96875': 31, '0.34375': 54, '0.59375': 31, '0.4375': 18, '0.0625': 46, '0.5625': 18, '0.46875': 19, '0.875': 107, '0.40625': 24, '0.71875': 116, '0.3125': 66, '0.65625': 47, '0.15625': 215, '0.28125': 125, '0.84375': 207, '0.375': 25, '0.125': 97, '0.6875': 77, '0.90625': 47, '0.1875': 1241, '0.25': 381, '0.75': 385, '0.5': 17, '0.78125': 7580, '0.8125': 1236, '0.03125': 39, '0.09375': 54, '0.9375': 36, '0.625': 25, '0.21875': 7593}\n"
     ]
    },
    {
     "data": {
      "image/png": "[encoded data removed]",
      "text/plain": [
       "<Figure size 504x360 with 1 Axes>"
      ]
     },
     "execution_count": 173,
     "metadata": {},
     "output_type": "execute_result"
    }
   ],
   "source": [
    "####### solution here\n",
    "count_circ = execute(circ, sim, shots=shots).result().get_counts()\n",
    "print('Results with bit strings',count_circ)\n",
    "\n",
    "def key_convert(count):\n",
    "    phi_est = np.array([round(int(key, 2)/2**t, t) for key in list(count.keys())])\n",
    "    key_new = list(map(str, phi_est))\n",
    "    count_new = dict(zip(key_new, count.values()))\n",
    "    return count_new\n",
    "\n",
    "count_new = key_convert(count_circ)\n",
    "print('\\nResults with phases',count_new)\n",
    "\n",
    "plot_histogram(count_new)"
   ]
  },
  {
   "cell_type": "markdown",
   "metadata": {},
   "source": [
    "To convert from this phase to an angle, we need to multiple it by $\\pi$. Also we need to recall that the angle is defined as $\\sqrt{\\frac{M}{N}} = \\cos(\\theta)$. So the number of solution, $M$, is\n",
    "\n",
    "$$ M = N \\cos(\\pi \\phi).$$"
   ]
  },
  {
   "cell_type": "code",
   "execution_count": 183,
   "metadata": {},
   "outputs": [
    {
     "name": "stdout",
     "output_type": "stream",
     "text": [
      "Phase 0.78125 implies 3.0 solutions for the given oracle.\n",
      "Phase 0.21875 implies 3.0 solutions for the given oracle.\n",
      "\n",
      "Spurious solutions occurred for 4827 out of 20000 shots.\n"
     ]
    }
   ],
   "source": [
    "errors = 0\n",
    "\n",
    "for phi in count_new:\n",
    "    \n",
    "    theta = float(phi)*np.pi\n",
    "    \n",
    "    if count_new[phi]>shots/10: # ignore spurious solutions\n",
    "\n",
    "        M = np.rint(N * np.sin(theta)**2)\n",
    "    \n",
    "        print('Phase',phi,'implies',M,'solutions for the given oracle.')\n",
    "        \n",
    "    else:\n",
    "        errors += count_new[phi]\n",
    "        \n",
    "print('\\nSpurious solutions occurred for',errors,'out of',shots,'shots.')"
   ]
  },
  {
   "cell_type": "code",
   "execution_count": null,
   "metadata": {},
   "outputs": [],
   "source": []
  },
  {
   "cell_type": "code",
   "execution_count": null,
   "metadata": {},
   "outputs": [],
   "source": []
  },
  {
   "cell_type": "code",
   "execution_count": null,
   "metadata": {},
   "outputs": [],
   "source": []
  }
 ],
 "metadata": {
  "kernelspec": {
   "display_name": "Python 3",
   "language": "python",
   "name": "python3"
  },
  "language_info": {
   "codemirror_mode": {
    "name": "ipython",
    "version": 3
   },
   "file_extension": ".py",
   "mimetype": "text/x-python",
   "name": "python",
   "nbconvert_exporter": "python",
   "pygments_lexer": "ipython3",
   "version": "3.9.1"
  },
  "widgets": {
   "application/vnd.jupyter.widget-state+json": {
    "state": {},
    "version_major": 2,
    "version_minor": 0
   }
  }
 },
 "nbformat": 4,
 "nbformat_minor": 4
}
